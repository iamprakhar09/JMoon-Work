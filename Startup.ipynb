{
  "nbformat": 4,
  "nbformat_minor": 0,
  "metadata": {
    "colab": {
      "name": "Startup.ipynb",
      "provenance": [],
      "collapsed_sections": []
    },
    "kernelspec": {
      "display_name": "Python 3",
      "name": "python3"
    }
  },
  "cells": [
    {
      "cell_type": "code",
      "metadata": {
        "id": "9df076b0IPrc"
      },
      "source": [
        "import pandas as pd \n",
        "import numpy as np \n",
        "import tensorflow as tf\n",
        "import keras"
      ],
      "execution_count": null,
      "outputs": []
    },
    {
      "cell_type": "code",
      "metadata": {
        "colab": {
          "base_uri": "https://localhost:8080/"
        },
        "id": "9h8y6Sb_HyPX",
        "outputId": "6c3be9c0-bfdb-4da2-c2e8-e0db3854efb6"
      },
      "source": [
        "df = pd.read_csv('/content/Book3.csv')"
      ],
      "execution_count": null,
      "outputs": [
        {
          "output_type": "stream",
          "text": [
            "/usr/local/lib/python3.7/dist-packages/IPython/core/interactiveshell.py:2718: DtypeWarning: Columns (8) have mixed types.Specify dtype option on import or set low_memory=False.\n",
            "  interactivity=interactivity, compiler=compiler, result=result)\n"
          ],
          "name": "stderr"
        }
      ]
    },
    {
      "cell_type": "code",
      "metadata": {
        "colab": {
          "base_uri": "https://localhost:8080/"
        },
        "id": "YocTokaXILXe",
        "outputId": "07845eb5-5be0-4e13-9d1f-0d0f1ec587fb"
      },
      "source": [
        "df.dtypes"
      ],
      "execution_count": null,
      "outputs": [
        {
          "output_type": "execute_result",
          "data": {
            "text/plain": [
              "name                  object\n",
              "raised_amount_usd      int64\n",
              "country_code          object\n",
              "city                  object\n",
              "funding_round_type    object\n",
              "funded_at_month        int64\n",
              "funded_at_year         int64\n",
              "founded_at_month       int64\n",
              "founded_at_Year       object\n",
              "main_category         object\n",
              "update_year            int64\n",
              "status                object\n",
              "dtype: object"
            ]
          },
          "metadata": {
            "tags": []
          },
          "execution_count": 3
        }
      ]
    },
    {
      "cell_type": "code",
      "metadata": {
        "colab": {
          "base_uri": "https://localhost:8080/"
        },
        "id": "08gYknyeIV4r",
        "outputId": "28056d76-5420-48a6-f010-b874561a8d16"
      },
      "source": [
        "df['founded_at_Year'][0] = '2011'"
      ],
      "execution_count": null,
      "outputs": [
        {
          "output_type": "stream",
          "text": [
            "/usr/local/lib/python3.7/dist-packages/ipykernel_launcher.py:1: SettingWithCopyWarning: \n",
            "A value is trying to be set on a copy of a slice from a DataFrame\n",
            "\n",
            "See the caveats in the documentation: https://pandas.pydata.org/pandas-docs/stable/user_guide/indexing.html#returning-a-view-versus-a-copy\n",
            "  \"\"\"Entry point for launching an IPython kernel.\n"
          ],
          "name": "stderr"
        }
      ]
    },
    {
      "cell_type": "code",
      "metadata": {
        "colab": {
          "base_uri": "https://localhost:8080/",
          "height": 292
        },
        "id": "n8OoWiK2I_Rn",
        "outputId": "a9c8fab0-a469-468e-d33b-5612e77e2fa1"
      },
      "source": [
        "df.head()"
      ],
      "execution_count": null,
      "outputs": [
        {
          "output_type": "execute_result",
          "data": {
            "text/html": [
              "<div>\n",
              "<style scoped>\n",
              "    .dataframe tbody tr th:only-of-type {\n",
              "        vertical-align: middle;\n",
              "    }\n",
              "\n",
              "    .dataframe tbody tr th {\n",
              "        vertical-align: top;\n",
              "    }\n",
              "\n",
              "    .dataframe thead th {\n",
              "        text-align: right;\n",
              "    }\n",
              "</style>\n",
              "<table border=\"1\" class=\"dataframe\">\n",
              "  <thead>\n",
              "    <tr style=\"text-align: right;\">\n",
              "      <th></th>\n",
              "      <th>name</th>\n",
              "      <th>raised_amount_usd</th>\n",
              "      <th>country_code</th>\n",
              "      <th>city</th>\n",
              "      <th>funding_round_type</th>\n",
              "      <th>funded_at_month</th>\n",
              "      <th>funded_at_year</th>\n",
              "      <th>founded_at_month</th>\n",
              "      <th>founded_at_Year</th>\n",
              "      <th>main_category</th>\n",
              "      <th>update_year</th>\n",
              "      <th>status</th>\n",
              "    </tr>\n",
              "  </thead>\n",
              "  <tbody>\n",
              "    <tr>\n",
              "      <th>0</th>\n",
              "      <td>480 Biomedical</td>\n",
              "      <td>17956999</td>\n",
              "      <td>USA</td>\n",
              "      <td>Watertown</td>\n",
              "      <td>venture</td>\n",
              "      <td>4</td>\n",
              "      <td>2013</td>\n",
              "      <td>1</td>\n",
              "      <td>2011</td>\n",
              "      <td>Biotechnology</td>\n",
              "      <td>2019</td>\n",
              "      <td>operating</td>\n",
              "    </tr>\n",
              "    <tr>\n",
              "      <th>1</th>\n",
              "      <td>4D Molecular Therapeutics</td>\n",
              "      <td>6999995</td>\n",
              "      <td>USA</td>\n",
              "      <td>Emeryville</td>\n",
              "      <td>venture</td>\n",
              "      <td>8</td>\n",
              "      <td>2015</td>\n",
              "      <td>1</td>\n",
              "      <td>2013</td>\n",
              "      <td>Biotechnology</td>\n",
              "      <td>2019</td>\n",
              "      <td>operating</td>\n",
              "    </tr>\n",
              "    <tr>\n",
              "      <th>2</th>\n",
              "      <td>7 Oaks Pharmaceutical</td>\n",
              "      <td>1613014</td>\n",
              "      <td>USA</td>\n",
              "      <td>Easley</td>\n",
              "      <td>venture</td>\n",
              "      <td>6</td>\n",
              "      <td>2011</td>\n",
              "      <td>1</td>\n",
              "      <td>1997</td>\n",
              "      <td>Biotechnology</td>\n",
              "      <td>2019</td>\n",
              "      <td>operating</td>\n",
              "    </tr>\n",
              "    <tr>\n",
              "      <th>3</th>\n",
              "      <td>Abeona Therapeutics</td>\n",
              "      <td>8500000</td>\n",
              "      <td>USA</td>\n",
              "      <td>Cleveland</td>\n",
              "      <td>venture</td>\n",
              "      <td>7</td>\n",
              "      <td>2015</td>\n",
              "      <td>1</td>\n",
              "      <td>2013</td>\n",
              "      <td>Biotechnology</td>\n",
              "      <td>2019</td>\n",
              "      <td>operating</td>\n",
              "    </tr>\n",
              "    <tr>\n",
              "      <th>4</th>\n",
              "      <td>Abeona Therapeutics</td>\n",
              "      <td>3600000</td>\n",
              "      <td>USA</td>\n",
              "      <td>Cleveland</td>\n",
              "      <td>venture</td>\n",
              "      <td>12</td>\n",
              "      <td>2014</td>\n",
              "      <td>1</td>\n",
              "      <td>2013</td>\n",
              "      <td>Biotechnology</td>\n",
              "      <td>2019</td>\n",
              "      <td>operating</td>\n",
              "    </tr>\n",
              "  </tbody>\n",
              "</table>\n",
              "</div>"
            ],
            "text/plain": [
              "                        name  raised_amount_usd  ... update_year     status\n",
              "0             480 Biomedical           17956999  ...        2019  operating\n",
              "1  4D Molecular Therapeutics            6999995  ...        2019  operating\n",
              "2      7 Oaks Pharmaceutical            1613014  ...        2019  operating\n",
              "3        Abeona Therapeutics            8500000  ...        2019  operating\n",
              "4        Abeona Therapeutics            3600000  ...        2019  operating\n",
              "\n",
              "[5 rows x 12 columns]"
            ]
          },
          "metadata": {
            "tags": []
          },
          "execution_count": 5
        }
      ]
    },
    {
      "cell_type": "code",
      "metadata": {
        "id": "0PaJQNxv6kvC"
      },
      "source": [
        "from sklearn.preprocessing import LabelEncoder"
      ],
      "execution_count": null,
      "outputs": []
    },
    {
      "cell_type": "code",
      "metadata": {
        "id": "EVqNyyWt0BH5"
      },
      "source": [
        "class MultiLabelEncoder:\n",
        "    def __init__(self,columns = None):\n",
        "        self.columns = columns # array of column names to encode\n",
        "\n",
        "    def fit(self,X,y=None):\n",
        "        return self # not relevant here\n",
        "\n",
        "    def transform(self,X):\n",
        "        '''\n",
        "        Transforms columns of X specified in self.columns using\n",
        "        LabelEncoder(). If no columns specified, transforms all\n",
        "        columns in X.\n",
        "        '''\n",
        "        output = X.copy()\n",
        "        if self.columns is not None:\n",
        "            for col in self.columns:\n",
        "                output[col] = LabelEncoder().fit_transform(output[col])\n",
        "        else:\n",
        "            for colname,col in output.iteritems():\n",
        "                output[colname] = LabelEncoder().fit_transform(col)\n",
        "        return output\n",
        "\n",
        "    def fit_transform(self,X,y=None):\n",
        "        return self.fit(X,y).transform(X)"
      ],
      "execution_count": null,
      "outputs": []
    },
    {
      "cell_type": "code",
      "metadata": {
        "id": "zzyKiqC75a5z"
      },
      "source": [
        "df1 = MultiLabelEncoder(columns = ['country_code','city','funding_round_type','main_category','status']).fit_transform(df)"
      ],
      "execution_count": null,
      "outputs": []
    },
    {
      "cell_type": "code",
      "metadata": {
        "colab": {
          "base_uri": "https://localhost:8080/",
          "height": 292
        },
        "id": "bSDrJ2C666EO",
        "outputId": "c6a82b1a-b512-43ad-ae35-0f67872906f8"
      },
      "source": [
        "df1.head()"
      ],
      "execution_count": null,
      "outputs": [
        {
          "output_type": "execute_result",
          "data": {
            "text/html": [
              "<div>\n",
              "<style scoped>\n",
              "    .dataframe tbody tr th:only-of-type {\n",
              "        vertical-align: middle;\n",
              "    }\n",
              "\n",
              "    .dataframe tbody tr th {\n",
              "        vertical-align: top;\n",
              "    }\n",
              "\n",
              "    .dataframe thead th {\n",
              "        text-align: right;\n",
              "    }\n",
              "</style>\n",
              "<table border=\"1\" class=\"dataframe\">\n",
              "  <thead>\n",
              "    <tr style=\"text-align: right;\">\n",
              "      <th></th>\n",
              "      <th>name</th>\n",
              "      <th>raised_amount_usd</th>\n",
              "      <th>country_code</th>\n",
              "      <th>city</th>\n",
              "      <th>funding_round_type</th>\n",
              "      <th>funded_at_month</th>\n",
              "      <th>funded_at_year</th>\n",
              "      <th>founded_at_month</th>\n",
              "      <th>founded_at_Year</th>\n",
              "      <th>main_category</th>\n",
              "      <th>update_year</th>\n",
              "      <th>status</th>\n",
              "    </tr>\n",
              "  </thead>\n",
              "  <tbody>\n",
              "    <tr>\n",
              "      <th>0</th>\n",
              "      <td>480 Biomedical</td>\n",
              "      <td>17956999</td>\n",
              "      <td>115</td>\n",
              "      <td>3456</td>\n",
              "      <td>28</td>\n",
              "      <td>4</td>\n",
              "      <td>2013</td>\n",
              "      <td>1</td>\n",
              "      <td>2011</td>\n",
              "      <td>67</td>\n",
              "      <td>2019</td>\n",
              "      <td>3</td>\n",
              "    </tr>\n",
              "    <tr>\n",
              "      <th>1</th>\n",
              "      <td>4D Molecular Therapeutics</td>\n",
              "      <td>6999995</td>\n",
              "      <td>115</td>\n",
              "      <td>967</td>\n",
              "      <td>28</td>\n",
              "      <td>8</td>\n",
              "      <td>2015</td>\n",
              "      <td>1</td>\n",
              "      <td>2013</td>\n",
              "      <td>67</td>\n",
              "      <td>2019</td>\n",
              "      <td>3</td>\n",
              "    </tr>\n",
              "    <tr>\n",
              "      <th>2</th>\n",
              "      <td>7 Oaks Pharmaceutical</td>\n",
              "      <td>1613014</td>\n",
              "      <td>115</td>\n",
              "      <td>903</td>\n",
              "      <td>28</td>\n",
              "      <td>6</td>\n",
              "      <td>2011</td>\n",
              "      <td>1</td>\n",
              "      <td>1997</td>\n",
              "      <td>67</td>\n",
              "      <td>2019</td>\n",
              "      <td>3</td>\n",
              "    </tr>\n",
              "    <tr>\n",
              "      <th>3</th>\n",
              "      <td>Abeona Therapeutics</td>\n",
              "      <td>8500000</td>\n",
              "      <td>115</td>\n",
              "      <td>671</td>\n",
              "      <td>28</td>\n",
              "      <td>7</td>\n",
              "      <td>2015</td>\n",
              "      <td>1</td>\n",
              "      <td>2013</td>\n",
              "      <td>67</td>\n",
              "      <td>2019</td>\n",
              "      <td>3</td>\n",
              "    </tr>\n",
              "    <tr>\n",
              "      <th>4</th>\n",
              "      <td>Abeona Therapeutics</td>\n",
              "      <td>3600000</td>\n",
              "      <td>115</td>\n",
              "      <td>671</td>\n",
              "      <td>28</td>\n",
              "      <td>12</td>\n",
              "      <td>2014</td>\n",
              "      <td>1</td>\n",
              "      <td>2013</td>\n",
              "      <td>67</td>\n",
              "      <td>2019</td>\n",
              "      <td>3</td>\n",
              "    </tr>\n",
              "  </tbody>\n",
              "</table>\n",
              "</div>"
            ],
            "text/plain": [
              "                        name  raised_amount_usd  ...  update_year  status\n",
              "0             480 Biomedical           17956999  ...         2019       3\n",
              "1  4D Molecular Therapeutics            6999995  ...         2019       3\n",
              "2      7 Oaks Pharmaceutical            1613014  ...         2019       3\n",
              "3        Abeona Therapeutics            8500000  ...         2019       3\n",
              "4        Abeona Therapeutics            3600000  ...         2019       3\n",
              "\n",
              "[5 rows x 12 columns]"
            ]
          },
          "metadata": {
            "tags": []
          },
          "execution_count": 9
        }
      ]
    },
    {
      "cell_type": "code",
      "metadata": {
        "id": "RCNAcipWOzgf"
      },
      "source": [
        "X = df1.iloc[:,[1,2,3,4,5,6,7,8,9,10]].values\n",
        "y = df1['status'].values"
      ],
      "execution_count": null,
      "outputs": []
    },
    {
      "cell_type": "code",
      "metadata": {
        "id": "bLOUapOEJL0Z"
      },
      "source": [
        "from sklearn.model_selection import train_test_split\n",
        "X_train, X_test, y_train, y_test = train_test_split(X, y, test_size=0.2, random_state=42)"
      ],
      "execution_count": null,
      "outputs": []
    },
    {
      "cell_type": "code",
      "metadata": {
        "id": "G2R4j87sT3PT"
      },
      "source": [
        "from sklearn.svm import SVC\n",
        "model = SVC()\n",
        "model.fit(X_train,y_train)\n",
        "y_pred = model.predict(X_test)"
      ],
      "execution_count": null,
      "outputs": []
    },
    {
      "cell_type": "code",
      "metadata": {
        "colab": {
          "base_uri": "https://localhost:8080/"
        },
        "id": "afRbTKs-x_1m",
        "outputId": "3269e9e7-c691-4fb3-e956-f092c750a370"
      },
      "source": [
        "from sklearn.metrics import accuracy_score\n",
        "print('Accuracy of Model is ', accuracy_score(y_test,y_pred))"
      ],
      "execution_count": null,
      "outputs": [
        {
          "output_type": "stream",
          "text": [
            "Accuracy of Model is  0.78538290862637\n"
          ],
          "name": "stdout"
        }
      ]
    },
    {
      "cell_type": "code",
      "metadata": {
        "colab": {
          "base_uri": "https://localhost:8080/"
        },
        "id": "aJSZOiea-IVn",
        "outputId": "69f547a4-10fa-424d-a608-ec7f3677b995"
      },
      "source": [
        "from sklearn.tree import DecisionTreeClassifier\n",
        "de = DecisionTreeClassifier()\n",
        "de.fit(X_train,y_train)\n"
      ],
      "execution_count": null,
      "outputs": [
        {
          "output_type": "execute_result",
          "data": {
            "text/plain": [
              "DecisionTreeClassifier(ccp_alpha=0.0, class_weight=None, criterion='gini',\n",
              "                       max_depth=None, max_features=None, max_leaf_nodes=None,\n",
              "                       min_impurity_decrease=0.0, min_impurity_split=None,\n",
              "                       min_samples_leaf=1, min_samples_split=2,\n",
              "                       min_weight_fraction_leaf=0.0, presort='deprecated',\n",
              "                       random_state=None, splitter='best')"
            ]
          },
          "metadata": {
            "tags": []
          },
          "execution_count": 14
        }
      ]
    },
    {
      "cell_type": "code",
      "metadata": {
        "id": "k2uzE3pI_6l_"
      },
      "source": [
        "y_pred_de = de.predict(X_test)"
      ],
      "execution_count": null,
      "outputs": []
    },
    {
      "cell_type": "code",
      "metadata": {
        "colab": {
          "base_uri": "https://localhost:8080/"
        },
        "id": "R3EizNyzAiFm",
        "outputId": "ee01e511-afbd-4e06-8f87-c8a57359a854"
      },
      "source": [
        "print('Accuracy of DTC Model is',accuracy_score(y_test,y_pred_de))"
      ],
      "execution_count": null,
      "outputs": [
        {
          "output_type": "stream",
          "text": [
            "Accuracy of DTC Model is 0.7112216768641162\n"
          ],
          "name": "stdout"
        }
      ]
    },
    {
      "cell_type": "code",
      "metadata": {
        "id": "BRV3QZ7mAuzD"
      },
      "source": [
        "a = [[400000,115,2834,21,5,2021,2,2021,274,2025],]"
      ],
      "execution_count": null,
      "outputs": []
    },
    {
      "cell_type": "code",
      "metadata": {
        "id": "uH0LJKutNq11"
      },
      "source": [
        "le = LabelEncoder().fit(df['city'])"
      ],
      "execution_count": null,
      "outputs": []
    },
    {
      "cell_type": "code",
      "metadata": {
        "colab": {
          "base_uri": "https://localhost:8080/"
        },
        "id": "XkM_oXIMVXCG",
        "outputId": "4a416a6b-42f1-4cb4-c943-5ef2592dda8b"
      },
      "source": [
        "le.transform(['San Francisco'])"
      ],
      "execution_count": null,
      "outputs": [
        {
          "output_type": "execute_result",
          "data": {
            "text/plain": [
              "array([2834])"
            ]
          },
          "metadata": {
            "tags": []
          },
          "execution_count": 19
        }
      ]
    },
    {
      "cell_type": "code",
      "metadata": {
        "id": "qmu7yx88Vp93"
      },
      "source": [
        "le1 = LabelEncoder().fit(df['funding_round_type'])"
      ],
      "execution_count": null,
      "outputs": []
    },
    {
      "cell_type": "code",
      "metadata": {
        "colab": {
          "base_uri": "https://localhost:8080/"
        },
        "id": "Wbxz7fkQV8M3",
        "outputId": "72148aa6-b84e-4335-96af-eb674a460174"
      },
      "source": [
        "le1.transform(['seed'])"
      ],
      "execution_count": null,
      "outputs": [
        {
          "output_type": "execute_result",
          "data": {
            "text/plain": [
              "array([21])"
            ]
          },
          "metadata": {
            "tags": []
          },
          "execution_count": 21
        }
      ]
    },
    {
      "cell_type": "code",
      "metadata": {
        "id": "l1FbbXQpWCVZ"
      },
      "source": [
        "le2 = LabelEncoder().fit(df['main_category'])"
      ],
      "execution_count": null,
      "outputs": []
    },
    {
      "cell_type": "code",
      "metadata": {
        "colab": {
          "base_uri": "https://localhost:8080/"
        },
        "id": "muQUdnwsWare",
        "outputId": "c666443b-d881-45e1-935d-8fb1d3413863"
      },
      "source": [
        "le2.transform(['Finance'])"
      ],
      "execution_count": null,
      "outputs": [
        {
          "output_type": "execute_result",
          "data": {
            "text/plain": [
              "array([274])"
            ]
          },
          "metadata": {
            "tags": []
          },
          "execution_count": 23
        }
      ]
    },
    {
      "cell_type": "code",
      "metadata": {
        "id": "TINetc-HWvU8"
      },
      "source": [
        "le3 = LabelEncoder().fit(df['status'])"
      ],
      "execution_count": null,
      "outputs": []
    },
    {
      "cell_type": "code",
      "metadata": {
        "colab": {
          "base_uri": "https://localhost:8080/"
        },
        "id": "UjtJn4s1X6g5",
        "outputId": "f14bd83c-99d1-40a7-a896-d579858a2851"
      },
      "source": [
        "le3.inverse_transform([3])"
      ],
      "execution_count": null,
      "outputs": [
        {
          "output_type": "execute_result",
          "data": {
            "text/plain": [
              "array(['operating'], dtype=object)"
            ]
          },
          "metadata": {
            "tags": []
          },
          "execution_count": 25
        }
      ]
    },
    {
      "cell_type": "code",
      "metadata": {
        "colab": {
          "base_uri": "https://localhost:8080/"
        },
        "id": "9cEe3atXX-a6",
        "outputId": "a1decd32-743b-4f4e-8014-740bba7daae0"
      },
      "source": [
        "model.predict(a)"
      ],
      "execution_count": null,
      "outputs": [
        {
          "output_type": "execute_result",
          "data": {
            "text/plain": [
              "array([3])"
            ]
          },
          "metadata": {
            "tags": []
          },
          "execution_count": 26
        }
      ]
    },
    {
      "cell_type": "code",
      "metadata": {
        "colab": {
          "base_uri": "https://localhost:8080/"
        },
        "id": "gNEpJv4tYKn-",
        "outputId": "f44fe6b3-461f-4990-b588-c55bd5444775"
      },
      "source": [
        "de.predict(a)"
      ],
      "execution_count": null,
      "outputs": [
        {
          "output_type": "execute_result",
          "data": {
            "text/plain": [
              "array([3])"
            ]
          },
          "metadata": {
            "tags": []
          },
          "execution_count": 27
        }
      ]
    },
    {
      "cell_type": "code",
      "metadata": {
        "id": "vPp630wGpCH3"
      },
      "source": [
        "from xgboost import XGBRegressor\n",
        "from lightgbm import LGBMClassifier\n",
        "from sklearn import preprocessing\n",
        "from sklearn.ensemble import (AdaBoostClassifier, GradientBoostingClassifier,\n",
        "                              RandomForestClassifier, VotingClassifier)\n",
        "from sklearn.linear_model import LogisticRegression\n",
        "from sklearn.metrics import (accuracy_score, classification_report,\n",
        "                             confusion_matrix, precision_score, recall_score)\n",
        "from sklearn.model_selection import cross_val_score, train_test_split\n",
        "from sklearn.naive_bayes import GaussianNB\n",
        "from sklearn.neighbors import KNeighborsClassifier\n",
        "from sklearn.preprocessing import LabelEncoder\n",
        "from sklearn.svm import SVC\n",
        "from sklearn.tree import DecisionTreeClassifier\n",
        "from xgboost import XGBClassifier\n",
        "import lightgbm as lgbm"
      ],
      "execution_count": null,
      "outputs": []
    },
    {
      "cell_type": "code",
      "metadata": {
        "id": "Y__dO3UdYsqr"
      },
      "source": [
        "model=[]\n",
        "model_name=[]\n",
        "\n",
        "\n",
        "from sklearn.linear_model import LogisticRegression\n",
        "model.append(LogisticRegression())\n",
        "model_name.append('Logistic Regression')\n",
        "\n",
        "from sklearn.tree import DecisionTreeClassifier\n",
        "model.append(DecisionTreeClassifier())\n",
        "model_name.append('Decision Tree')\n",
        "\n",
        "\n",
        "from sklearn.ensemble import RandomForestClassifier\n",
        "model.append(RandomForestClassifier())\n",
        "model_name.append(\"Random Forest\")\n",
        "\n",
        "from sklearn.neighbors import KNeighborsClassifier \n",
        "model.append(KNeighborsClassifier(n_neighbors=10))\n",
        "model_name.append('KNN')\n",
        "\n",
        "from sklearn import svm\n",
        "#model.append(svm.SVC(kernel='linear'))\n",
        "#model_name.append('svm_linear')\n",
        "\n",
        "# model.append( svm.SVC(kernel='rbf'))\n",
        "# model_name.append('svm_rbf')\n",
        "\n",
        "model.append(XGBClassifier())\n",
        "model_name.append('xgb')\n",
        "\n",
        "model.append(LGBMClassifier(objective='multiclass', random_state=5))\n",
        "model_name.append('lgbm')\n",
        "\n",
        "from sklearn.ensemble import AdaBoostClassifier\n",
        "model.append(AdaBoostClassifier(n_estimators=50,learning_rate=1))\n",
        "model_name.append('adaboost')\n",
        "\n",
        "\n"
      ],
      "execution_count": null,
      "outputs": []
    },
    {
      "cell_type": "code",
      "metadata": {
        "colab": {
          "base_uri": "https://localhost:8080/"
        },
        "id": "DkIK2uvPque8",
        "outputId": "9724414d-fa8c-4332-d3fd-205e0941a5b8"
      },
      "source": [
        "\n",
        "for i in range(len(model)):\n",
        "    print(model_name[i])\n",
        "    model[i].fit(X_train, y_train)\n",
        "    pred=model[i].predict(X_test)\n",
        "    #print((pred==y_test).sum()/y_test.shape[0])\n",
        "    print(accuracy_score(y_test,pred))"
      ],
      "execution_count": null,
      "outputs": [
        {
          "output_type": "stream",
          "text": [
            "Logistic Regression\n",
            "0.785248436764607\n",
            "Decision Tree\n",
            "0.7109527331405904\n",
            "Random Forest\n",
            "0.806293283130505\n",
            "KNN\n",
            "0.7738855644456397\n",
            "xgb\n",
            "0.7973509043232704\n",
            "lgbm\n",
            "0.8035366099643649\n",
            "adaboost\n",
            "0.7903583675115982\n"
          ],
          "name": "stdout"
        }
      ]
    },
    {
      "cell_type": "code",
      "metadata": {
        "colab": {
          "base_uri": "https://localhost:8080/"
        },
        "id": "Jx5QG1zI-Dj0",
        "outputId": "81d2a2d9-db73-4d14-d4f4-cd97d27d6fac"
      },
      "source": [
        "for i in range(len(model)):\n",
        "    print(model_name[i])\n",
        "    model[i].fit(X_train, y_train)\n",
        "    predt=model[i].predict(a)\n",
        "    print(predt,le3.inverse_transform(predt))"
      ],
      "execution_count": null,
      "outputs": [
        {
          "output_type": "stream",
          "text": [
            "Logistic Regression\n",
            "[3] ['operating']\n",
            "Decision Tree\n",
            "[3] ['operating']\n",
            "Random Forest\n",
            "[3] ['operating']\n",
            "KNN\n",
            "[3] ['operating']\n",
            "xgb\n",
            "[3] ['operating']\n",
            "lgbm\n",
            "[3] ['operating']\n",
            "adaboost\n",
            "[3] ['operating']\n"
          ],
          "name": "stdout"
        }
      ]
    },
    {
      "cell_type": "code",
      "metadata": {
        "id": "phBPeHCv-5qk"
      },
      "source": [
        "b = [[400000,115,2834,21,5,2021,2,2021,274,2021],]\n",
        "c = [[300000,115,2834,21,5,2021,2,2021,274,2025],]\n",
        "d = [[300000,115,2834,21,5,2021,2,2021,274,2021],]"
      ],
      "execution_count": null,
      "outputs": []
    },
    {
      "cell_type": "code",
      "metadata": {
        "colab": {
          "base_uri": "https://localhost:8080/"
        },
        "id": "W9rL9RshBAL8",
        "outputId": "62897267-76b2-4663-b41b-780d5da470c7"
      },
      "source": [
        "for i in range(len(model)):\n",
        "    print(model_name[i])\n",
        "    model[i].fit(X_train, y_train)\n",
        "    predt=model[i].predict(b)\n",
        "    print(predt,le3.inverse_transform(predt))"
      ],
      "execution_count": null,
      "outputs": [
        {
          "output_type": "stream",
          "text": [
            "Logistic Regression\n",
            "[3] ['operating']\n",
            "Decision Tree\n",
            "[3] ['operating']\n",
            "Random Forest\n",
            "[3] ['operating']\n",
            "KNN\n",
            "[3] ['operating']\n",
            "xgb\n",
            "[3] ['operating']\n",
            "lgbm\n",
            "[3] ['operating']\n",
            "adaboost\n",
            "[3] ['operating']\n"
          ],
          "name": "stdout"
        }
      ]
    },
    {
      "cell_type": "code",
      "metadata": {
        "colab": {
          "base_uri": "https://localhost:8080/"
        },
        "id": "GxgIqoOyBEiW",
        "outputId": "eb29db0e-be3f-4e97-a3c4-dbb35c233047"
      },
      "source": [
        "for i in range(len(model)):\n",
        "    print(model_name[i])\n",
        "    model[i].fit(X_train, y_train)\n",
        "    predt=model[i].predict(c)\n",
        "    print(predt,le3.inverse_transform(predt))"
      ],
      "execution_count": null,
      "outputs": [
        {
          "output_type": "stream",
          "text": [
            "Logistic Regression\n",
            "[3] ['operating']\n",
            "Decision Tree\n",
            "[3] ['operating']\n",
            "Random Forest\n",
            "[3] ['operating']\n",
            "KNN\n",
            "[3] ['operating']\n",
            "xgb\n",
            "[3] ['operating']\n",
            "lgbm\n",
            "[3] ['operating']\n",
            "adaboost\n",
            "[3] ['operating']\n"
          ],
          "name": "stdout"
        }
      ]
    },
    {
      "cell_type": "code",
      "metadata": {
        "colab": {
          "base_uri": "https://localhost:8080/"
        },
        "id": "pO6O3SniBGoI",
        "outputId": "319ef995-8ea4-4fb1-ce30-22dfd01a7f8d"
      },
      "source": [
        "for i in range(len(model)):\n",
        "    print(model_name[i])\n",
        "    model[i].fit(X_train, y_train)\n",
        "    predt=model[i].predict(d)\n",
        "    print(predt,le3.inverse_transform(predt))"
      ],
      "execution_count": null,
      "outputs": [
        {
          "output_type": "stream",
          "text": [
            "Logistic Regression\n",
            "[3] ['operating']\n",
            "Decision Tree\n",
            "[3] ['operating']\n",
            "Random Forest\n",
            "[3] ['operating']\n",
            "KNN\n",
            "[3] ['operating']\n",
            "xgb\n",
            "[3] ['operating']\n",
            "lgbm\n",
            "[3] ['operating']\n",
            "adaboost\n",
            "[3] ['operating']\n"
          ],
          "name": "stdout"
        }
      ]
    },
    {
      "cell_type": "code",
      "metadata": {
        "id": "WlPAeKiQ4t-Y"
      },
      "source": [
        "l = [400000,'USA','San Francisco','seed',5,2021,2,2021,'Finance',2025]"
      ],
      "execution_count": null,
      "outputs": []
    },
    {
      "cell_type": "code",
      "metadata": {
        "id": "ZWn_qa8WFX8Q"
      },
      "source": [
        "def encode(a):\n",
        "  le = LabelEncoder().fit(df['country_code'])\n",
        "  le1 = LabelEncoder().fit(df['city'])\n",
        "  le2 = LabelEncoder().fit(df['funding_round_type'])\n",
        "  le3 = LabelEncoder().fit(df['main_category'])\n",
        "  a[1] = int(le.transform([a[1]]))\n",
        "  a[2] = int(le1.transform([a[2]]))\n",
        "  a[3] = int(le2.transform([a[3]]))\n",
        "  a[8] = int(le3.transform([a[8]]))\n",
        "  return([a,])"
      ],
      "execution_count": null,
      "outputs": []
    },
    {
      "cell_type": "code",
      "metadata": {
        "colab": {
          "base_uri": "https://localhost:8080/",
          "height": 35
        },
        "id": "JzDe7AfJ6JM8",
        "outputId": "30c24bee-25f0-49b4-f86f-a49d0c903c9c"
      },
      "source": [
        "str(le3.inverse_transform(de.predict(encode(l))))"
      ],
      "execution_count": null,
      "outputs": [
        {
          "output_type": "execute_result",
          "data": {
            "application/vnd.google.colaboratory.intrinsic+json": {
              "type": "string"
            },
            "text/plain": [
              "\"['operating']\""
            ]
          },
          "metadata": {
            "tags": []
          },
          "execution_count": 63
        }
      ]
    },
    {
      "cell_type": "code",
      "metadata": {
        "id": "hc-c1eD_6wwH"
      },
      "source": [
        ""
      ],
      "execution_count": null,
      "outputs": []
    }
  ]
}